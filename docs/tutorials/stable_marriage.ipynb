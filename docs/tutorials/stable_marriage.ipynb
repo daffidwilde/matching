{
 "cells": [
  {
   "cell_type": "markdown",
   "metadata": {
    "raw_mimetype": "text/restructuredtext"
   },
   "source": [
    "---\n",
    "title: Pairing up suitors and reviewers\n",
    "description: Help our ensemble overcome their pride and prejudice... with maths\n",
    "image: /docs/assets/tutorials/stable_marriage/feature.jpg\n",
    "---"
   ]
  },
  {
   "cell_type": "markdown",
   "metadata": {},
   "source": [
    "In this tutorial we will be setting up and solving an instance of SM.\n",
    "\n",
    "In particular, we will be using an example adapted from the great literary\n",
    "work, *Pride and Prejudice* [@Aus13], where four women\n",
    "(Charlotte, Elizabeth, Jane and Lydia) are being courted by four male suitors\n",
    "(Bingley, Collins, Darcy, and Wickham).\n",
    "\n",
    "From here on out, we'll refer to the men and women as suitors and reviewers,\n",
    "respectively.\n",
    "\n",
    "## Defining the players and their preferences\n",
    "\n",
    "To begin, we create a dictionary of preference lists for the suitors and reviewers respectively.\n",
    "These preference lists are ordered so your favourite comes first, then your second favourite, and\n",
    "so on.\n",
    "\n",
    "::: {.callout-note}\n",
    "These preference lists are based purely on my interpretation of two adaptations of the book:\n",
    "Gurinder Chadha's 2004 Bollywood-style adaptation, Bride and Prejudice, and Joe Wright's 2006 film,\n",
    "starring Keira Knightley.\n",
    "\n",
    "I cannot and will not speak for Austen's intentions.\n",
    ":::"
   ]
  },
  {
   "cell_type": "code",
   "execution_count": 1,
   "metadata": {},
   "outputs": [],
   "source": [
    "suitors = {\n",
    "    \"Bingley\": (\"Jane\", \"Elizabeth\", \"Lydia\", \"Charlotte\"),\n",
    "    \"Collins\": (\"Jane\", \"Elizabeth\", \"Lydia\", \"Charlotte\"),\n",
    "    \"Darcy\": (\"Elizabeth\", \"Jane\", \"Charlotte\", \"Lydia\"),\n",
    "    \"Wickham\": (\"Lydia\", \"Jane\", \"Elizabeth\", \"Charlotte\"),\n",
    "}\n",
    "\n",
    "reviewers = {\n",
    "    \"Charlotte\": (\"Bingley\", \"Darcy\", \"Collins\", \"Wickham\"),\n",
    "    \"Elizabeth\": (\"Wickham\", \"Darcy\", \"Bingley\", \"Collins\"),\n",
    "    \"Jane\": (\"Bingley\", \"Wickham\", \"Darcy\", \"Collins\"),\n",
    "    \"Lydia\": (\"Bingley\", \"Wickham\", \"Darcy\", \"Collins\"),\n",
    "}"
   ]
  },
  {
   "cell_type": "markdown",
   "metadata": {},
   "source": [
    "## Running the game\n",
    "\n",
    "We create the game by passing our preference list dictionaries to the\n",
    "`StableMarriage.from_preferences()` class method:"
   ]
  },
  {
   "cell_type": "code",
   "execution_count": 2,
   "metadata": {},
   "outputs": [],
   "source": [
    "from matching.games import StableMarriage\n",
    "\n",
    "game = StableMarriage.from_preferences(suitors, reviewers)"
   ]
  },
  {
   "cell_type": "markdown",
   "metadata": {},
   "source": [
    "Then we can find a suitor-optimal, stable matching using the `solve` method:"
   ]
  },
  {
   "cell_type": "code",
   "execution_count": 3,
   "metadata": {},
   "outputs": [
    {
     "data": {
      "text/plain": [
       "SingleMatching({'Lydia': 'Wickham', 'Elizabeth': 'Darcy', 'Jane': 'Bingley', 'Charlotte': 'Collins'}, keys=\"reviewers\", values=\"suitors\")"
      ]
     },
     "execution_count": 3,
     "metadata": {},
     "output_type": "execute_result"
    }
   ],
   "source": [
    "game.solve()"
   ]
  },
  {
   "cell_type": "markdown",
   "metadata": {},
   "source": [
    "Huzzah! We have shown (with some inventive but necessary subtext) that\n",
    "Jane Austen successfully created a stable matching between her characters\n",
    "over [a century before the maths](@GaleShapley1962) had been figured out."
   ]
  }
 ],
 "metadata": {
  "kernelspec": {
   "display_name": "matching",
   "language": "python",
   "name": "python3"
  },
  "language_info": {
   "codemirror_mode": {
    "name": "ipython",
    "version": 3
   },
   "file_extension": ".py",
   "mimetype": "text/x-python",
   "name": "python",
   "nbconvert_exporter": "python",
   "pygments_lexer": "ipython3",
   "version": "3.11.10"
  }
 },
 "nbformat": 4,
 "nbformat_minor": 2
}
