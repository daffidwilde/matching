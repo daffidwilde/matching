{
 "cells": [
  {
   "cell_type": "markdown",
   "metadata": {},
   "source": [
    "# Pairing up into roommates \n",
    "\n",
    "In this tutorial, we will be setting up and solving an intance of the SR game. In particular, we will be using an example adapted from *Seinfeld* where four friends (Jerry, George, Elaine, and Kramer) are trying to make pairs so that they can share two 2-bedroom apartments. \n",
    "\n",
    "From here on out, we'll refer to each individual as a *player*. If you would like to know more about SR then head to its [discussion page](../../discussion/stable_roommates/index.rst).\n",
    "\n",
    "---\n",
    "To begin, we create an instance of the `Player` class for each player. "
   ]
  },
  {
   "cell_type": "code",
   "execution_count": 1,
   "metadata": {},
   "outputs": [],
   "source": [
    "from matching import Player\n",
    "\n",
    "players = [\n",
    "    Player(name=\"jerry\"),\n",
    "    Player(name=\"george\"),\n",
    "    Player(name=\"kramer\"),\n",
    "    Player(name=\"elaine\"),\n",
    "]"
   ]
  },
  {
   "cell_type": "markdown",
   "metadata": {},
   "source": [
    "Now each player requires that we set their preferences with the `Player.set_pref` method. Each player's preferences must be a list of all the `Player` instances in the other party and be ordered according to their preference of that player.\n",
    "\n",
    "A nice way to do this is by unpacking each `player`."
   ]
  },
  {
   "cell_type": "code",
   "execution_count": 2,
   "metadata": {},
   "outputs": [],
   "source": [
    "jerry, george, elaine, kramer = players\n",
    "\n",
    "jerry.set_prefs([george, elaine, kramer])\n",
    "george.set_prefs([jerry, kramer, elaine])\n",
    "elaine.set_prefs([jerry, kramer, george])\n",
    "kramer.set_prefs([elaine, george, jerry])"
   ]
  },
  {
   "cell_type": "markdown",
   "metadata": {},
   "source": [
    "With our now complete `Player` instances, we pass the lists of players to the `StableRoommates` class and find a stable matching using the `solve` method:"
   ]
  },
  {
   "cell_type": "code",
   "execution_count": 3,
   "metadata": {},
   "outputs": [
    {
     "data": {
      "text/plain": [
       "{jerry: george, george: jerry, kramer: elaine, elaine: kramer}"
      ]
     },
     "execution_count": 3,
     "metadata": {},
     "output_type": "execute_result"
    }
   ],
   "source": [
    "from matching.games import StableRoommates\n",
    "\n",
    "game = StableRoommates(players)\n",
    "game.solve()"
   ]
  },
  {
   "cell_type": "code",
   "execution_count": null,
   "metadata": {},
   "outputs": [],
   "source": []
  }
 ],
 "metadata": {
  "interpreter": {
   "hash": "a8c967c2db996a903b0ac2ddddd52d1718dfee8994011f28d022363595a494ba"
  },
  "kernelspec": {
   "display_name": "matching-docs",
   "language": "python",
   "name": "matching-docs"
  },
  "language_info": {
   "codemirror_mode": {
    "name": "ipython",
    "version": 3
   },
   "file_extension": ".py",
   "mimetype": "text/x-python",
   "name": "python",
   "nbconvert_exporter": "python",
   "pygments_lexer": "ipython3",
   "version": "3.8.16"
  }
 },
 "nbformat": 4,
 "nbformat_minor": 2
}
