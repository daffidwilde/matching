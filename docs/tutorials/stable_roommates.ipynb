{
 "cells": [
  {
   "cell_type": "markdown",
   "metadata": {},
   "source": [
    "---\n",
    "title: Finding pairs of roommates\n",
    "description: Try splitting up this funny bunch in the Big Apple\n",
    "image: /docs/assets/tutorials/stable_roommates/feature.jpg\n",
    "---"
   ]
  },
  {
   "cell_type": "markdown",
   "metadata": {},
   "source": [
    "\n",
    "In this tutorial we will be setting up and solving an intance of the stable\n",
    "roommates problem.\n",
    "\n",
    "We will be using an example adapted from the show *Seinfeld* [@DS89],\n",
    "where four friends (Jerry, George, Elaine, and Kramer) are trying to make pairs\n",
    "so that they can share two 2-bedroom apartments.\n",
    "We refer to these friends as players from here on.\n",
    "\n",
    "## Creating the players\n",
    "\n",
    "To begin, we create an instance of the `Player` class for each player. "
   ]
  },
  {
   "cell_type": "code",
   "execution_count": 1,
   "metadata": {},
   "outputs": [],
   "source": [
    "from matching import Player\n",
    "\n",
    "players = [\n",
    "    Player(\"jerry\"),\n",
    "    Player(\"george\"),\n",
    "    Player(\"kramer\"),\n",
    "    Player(\"elaine\"),\n",
    "]"
   ]
  },
  {
   "cell_type": "markdown",
   "metadata": {},
   "source": [
    "We set everyone's preferences using the `Player.set_pref()` method.\n",
    "Each player's preferences must be a list of all the other `Player` instances,\n",
    "ordered according to how much they like each other player.\n",
    "\n",
    "A nice way to do this is by unpacking our list of players:"
   ]
  },
  {
   "cell_type": "code",
   "execution_count": 2,
   "metadata": {},
   "outputs": [],
   "source": [
    "jerry, george, elaine, kramer = players\n",
    "\n",
    "jerry.set_prefs([george, elaine, kramer])\n",
    "george.set_prefs([jerry, kramer, elaine])\n",
    "elaine.set_prefs([jerry, kramer, george])\n",
    "kramer.set_prefs([elaine, george, jerry])"
   ]
  },
  {
   "cell_type": "markdown",
   "metadata": {},
   "source": [
    "## Running the game\n",
    "\n",
    "With our now complete `Player` instances, we pass the lists of players to the\n",
    "`StableRoommates` class:"
   ]
  },
  {
   "cell_type": "code",
   "execution_count": 3,
   "metadata": {},
   "outputs": [],
   "source": [
    "from matching.games import StableRoommates\n",
    "\n",
    "game = StableRoommates(players)"
   ]
  },
  {
   "cell_type": "markdown",
   "metadata": {},
   "source": [
    "Finally, we solve the game."
   ]
  },
  {
   "cell_type": "code",
   "execution_count": 4,
   "metadata": {},
   "outputs": [
    {
     "data": {
      "text/plain": [
       "{jerry: george, george: jerry, kramer: elaine, elaine: kramer}"
      ]
     },
     "execution_count": 4,
     "metadata": {},
     "output_type": "execute_result"
    }
   ],
   "source": [
    "dict(game.solve())"
   ]
  },
  {
   "cell_type": "markdown",
   "metadata": {},
   "source": [
    "Thankfully, there is a stable matching here\n",
    "([it's not guaranteed](../../discussion/stable_roommates.md#matching)),\n",
    "and our foursome of friends can furcate forthwith!"
   ]
  }
 ],
 "metadata": {
  "kernelspec": {
   "display_name": "matching",
   "language": "python",
   "name": "python3"
  },
  "language_info": {
   "codemirror_mode": {
    "name": "ipython",
    "version": 3
   },
   "file_extension": ".py",
   "mimetype": "text/x-python",
   "name": "python",
   "nbconvert_exporter": "python",
   "pygments_lexer": "ipython3",
   "version": "3.11.10"
  }
 },
 "nbformat": 4,
 "nbformat_minor": 2
}
