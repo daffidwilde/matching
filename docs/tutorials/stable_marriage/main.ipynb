{
 "cells": [
  {
   "cell_type": "markdown",
   "metadata": {},
   "source": [
    "# Finding a solution to a stable marriage game\n",
    "\n",
    "\n",
    "In this tutorial we will be setting up and solving an instance of SM with
    Matching. In particular, we will be using an example adapted from Jane
    Austen's *Pride and Prejudice* where four women (Charlotte, Elizabeth, Jane
    and Lydia) are being courted by four male suitors (Bingley, Collins, Darcy, Wickham).\n",
    "\n",
    "---\n",
    "\n",
    "To begin, we create an instance of the `Player` class for each suitor and reviewer:"
   ]
  },
  {
   "cell_type": "code",
   "execution_count": 1,
   "metadata": {},
   "outputs": [],
   "source": [
    "from matching import Player\n",
    "\n",
    "suitors = [\n",
    "    Player(name=\"Bingley\"),\n",
    "    Player(name=\"Collins\"),\n",
    "    Player(name=\"Darcy\"),\n",
    "    Player(name=\"Wickham\"),\n",
    "]\n",
    "\n",
    "reviewers = [\n",
    "    Player(name=\"Charlotte\"),\n",
    "    Player(name=\"Elizabeth\"),\n",
    "    Player(name=\"Jane\"),\n",
    "    Player(name=\"Lydia\"),\n",
    "]\n"
   ]
  },
  {
   "cell_type": "markdown",
   "metadata": {},
   "source": [
    "Now each player requires have its preferences set using the `Player.set_prefs` method. Each player's preferences must be a list of all the `Player` instances in the other party and be ordered according to their preference of that player.\n",
    "\n",
    "A nice way to do this is by unpacking `suitors` and `reviewers`:"
   ]
  },
  {
   "cell_type": "code",
   "execution_count": 2,
   "metadata": {},
   "outputs": [],
   "source": [
    "bingley, collins, darcy, wickham = suitors\n",
    "charlotte, elizabeth, jane, lydia = reviewers\n",
    "\n",
    "bingley.set_prefs([jane, elizabeth, lydia, charlotte])\n",
    "collins.set_prefs([jane, elizabeth, lydia, charlotte])\n",
    "darcy.set_prefs([elizabeth, jane, charlotte, lydia])\n",
    "wickham.set_prefs([lydia, jane, elizabeth, charlotte])\n",
    "\n",
    "charlotte.set_prefs([bingley, darcy, collins, wickham])\n",
    "elizabeth.set_prefs([wickham, darcy, bingley, collins])\n",
    "jane.set_prefs([bingley, wickham, darcy, collins])\n",
    "lydia.set_prefs([bingley, wickham, darcy, collins])\n"
   ]
  },
  {
   "cell_type": "markdown",
   "metadata": {},
   "source": [
    "With our now complete `Player` instances, we pass the lists of players to the `StableMarriage` class and find a suitor-optimal, stable matching using the `solve` method:"
   ]
  },
  {
   "cell_type": "code",
   "execution_count": 3,
   "metadata": {},
   "outputs": [
    {
     "data": {
      "text/plain": [
       "{Bingley: Jane, Collins: Charlotte, Darcy: Elizabeth, Wickham: Lydia}"
      ]
     },
     "execution_count": 3,
     "metadata": {},
     "output_type": "execute_result"
    }
   ],
   "source": [
    "from matching.games import StableMarriage\n",
    "\n",
    "game = StableMarriage(suitors, reviewers)\n",
    "game.solve()\n"
   ]
  }
 ],
 "metadata": {
  "kernelspec": {
   "display_name": "BIOSC Matching",
   "language": "python",
   "name": "biosci-matching"
  },
  "language_info": {
   "codemirror_mode": {
    "name": "ipython",
    "version": 3
   },
   "file_extension": ".py",
   "mimetype": "text/x-python",
   "name": "python",
   "nbconvert_exporter": "python",
   "pygments_lexer": "ipython3",
   "version": "3.7.6"
  }
 },
 "nbformat": 4,
 "nbformat_minor": 2
}
