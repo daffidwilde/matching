{
 "cells": [
  {
   "cell_type": "markdown",
   "metadata": {},
   "source": [
    "---\n",
    "title: Allocating university medics to hospital placements\n",
    "description: Identify a resident-optimal matching in a simulated South Wales\n",
    "image: /docs/assets/tutorials/hospital_resident/feature.jpg\n",
    "---"
   ]
  },
  {
   "cell_type": "markdown",
   "metadata": {},
   "source": [
    "For this tutorial, we will be using HR to solve a real-world problem.\n",
    "\n",
    "Imagine that we represent a centralised body responsible for assigning\n",
    "newly qualified doctors to their hospital posts. This job is already done\n",
    "by computers [around the world](https://www.nrmpinternational.org)\n",
    "using software like `matching`, and now we can do it, too.\n",
    "\n",
    "::: {.callout-note}\n",
    "The hospital capacities and all of the preferences for this instance are\n",
    "entirely fabricated but the hospitals are some of those from the South Wales\n",
    "area of the UK.\n",
    ":::\n",
    "\n",
    "## Collecting and reading the data\n",
    "\n",
    "The data for this tutorial have been archived\n",
    "[on Zenodo](https://zenodo.org/record/3688091).\n",
    "The source code used to generate them is\n",
    "[here](https://github.com/daffidwilde/matching/blob/master/docs/tutorials/hospital_resident/data.py).\n",
    "\n",
    "We can load in the data as Python dictionaries\n",
    "with the `urllib` and `PyYAML` libraries."
   ]
  },
  {
   "cell_type": "code",
   "execution_count": 2,
   "metadata": {},
   "outputs": [],
   "source": [
    "import urllib\n",
    "\n",
    "import yaml\n",
    "\n",
    "\n",
    "def read_yaml_to_dict(where, filename):\n",
    "    \"\"\"Read in the YAML data from the URL.\"\"\"\n",
    "\n",
    "    url = \"/\".join((where, filename))\n",
    "    with urllib.request.urlopen(url) as response:\n",
    "        dictionary = yaml.safe_load(response.read())\n",
    "\n",
    "    return dictionary\n",
    "\n",
    "\n",
    "base_url = \"https://zenodo.org/record/3688091/files\"\n",
    "\n",
    "resident_preferences = read_yaml_to_dict(base_url, \"residents.yml\")\n",
    "hospital_preferences = read_yaml_to_dict(base_url, \"hospitals.yml\")\n",
    "hospital_capacities = read_yaml_to_dict(base_url, \"capacities.yml\")"
   ]
  },
  {
   "cell_type": "markdown",
   "metadata": {},
   "source": [
    "As it turns out, this game is fairly large. There are 200 medics (or residents)\n",
    "applying to 7 hospitals with a total of 210 spaces available:"
   ]
  },
  {
   "cell_type": "code",
   "execution_count": 2,
   "metadata": {},
   "outputs": [
    {
     "data": {
      "text/plain": [
       "(200, 7, 210)"
      ]
     },
     "execution_count": 2,
     "metadata": {},
     "output_type": "execute_result"
    }
   ],
   "source": [
    "num_residents = len(resident_preferences)\n",
    "num_hospitals = len(hospital_preferences)\n",
    "total_spaces = sum(hospital_capacities.values())\n",
    "\n",
    "num_residents, num_hospitals, total_spaces"
   ]
  },
  {
   "cell_type": "markdown",
   "metadata": {},
   "source": [
    "## Creating the players\n",
    "\n",
    "With the data read in, we can create the players for our game.\n",
    "\n",
    "::: {.callout-tip}\n",
    "We don't need to worry about [cleaning the data](../../how-to/clean/main.ipynb)\n",
    "as they were created to form a\n",
    "[valid game instance](../../discussion/hospital_resident/main.md#the-game).\n",
    ":::\n",
    "\n",
    "This particular instance is not only too large to be done by hand,\n",
    "but we also won't be creating the players manually.\n",
    "Instead, we will use the `HospitalResident.create_from_dictionaries()` method."
   ]
  },
  {
   "cell_type": "code",
   "execution_count": 3,
   "metadata": {},
   "outputs": [],
   "source": [
    "from matching.games import HospitalResident\n",
    "\n",
    "game = HospitalResident.create_from_dictionaries(\n",
    "    resident_preferences, hospital_preferences, hospital_capacities\n",
    ")"
   ]
  },
  {
   "cell_type": "markdown",
   "metadata": {},
   "source": [
    "## Running the game\n",
    "\n",
    "Now, we have a complete game instance to solve.\n",
    "\n",
    "We have the option to find a resident- or hospital-optimal solution.\n",
    "In this case, as is often done in reality, we will be using the former."
   ]
  },
  {
   "cell_type": "code",
   "execution_count": 4,
   "metadata": {},
   "outputs": [],
   "source": [
    "solution = game.solve(optimal=\"resident\")"
   ]
  },
  {
   "cell_type": "markdown",
   "metadata": {},
   "source": [
    "## Checking the matching\n",
    "\n",
    "The `solution` is a dictionary-like object with hospitals as keys and\n",
    "lists of their matched residents as values. "
   ]
  },
  {
   "cell_type": "code",
   "execution_count": 5,
   "metadata": {},
   "outputs": [
    {
     "name": "stdout",
     "output_type": "stream",
     "text": [
      "Dewi Sant (30 / 30): [067, 022, 023, 158, 139, 065, 160, 131, 011, 137, 039, 045, 013, 046, 072, 037, 086, 152, 144, 154, 130, 040, 010, 159, 083, 019, 169, 193, 168, 079]\n",
      "Prince Charles (29 / 30): [027, 133, 106, 081, 051, 044, 069, 157, 110, 119, 129, 107, 135, 034, 007, 194, 198, 061, 087, 041, 183, 136, 059, 178, 009, 008, 031, 070, 026]\n",
      "Prince of Wales (30 / 30): [143, 128, 048, 175, 078, 132, 151, 030, 124, 138, 088, 004, 199, 173, 017, 097, 064, 025, 112, 181, 171, 196, 111, 035, 185, 156, 140, 001, 197, 177]\n",
      "Royal Glamorgan (30 / 30): [073, 118, 096, 089, 014, 126, 142, 053, 021, 018, 104, 015, 147, 153, 033, 113, 146, 076, 123, 042, 117, 024, 029, 000, 016, 134, 058, 166, 075, 174]\n",
      "Royal Gwent (27 / 30): [028, 105, 115, 095, 054, 006, 120, 161, 187, 164, 091, 141, 036, 184, 071, 155, 066, 182, 189, 002, 191, 068, 090, 145, 163, 121, 180]\n",
      "St. David (30 / 30): [149, 101, 150, 172, 165, 020, 049, 094, 060, 116, 056, 005, 093, 188, 043, 108, 192, 092, 167, 114, 012, 063, 077, 162, 085, 195, 032, 099, 084, 127]\n",
      "University (24 / 30): [109, 003, 057, 170, 176, 100, 122, 080, 038, 082, 102, 052, 062, 055, 047, 074, 050, 179, 125, 186, 148, 103, 098, 190]\n"
     ]
    }
   ],
   "source": [
    "for hospital, residents in solution.items():\n",
    "    print(f\"{hospital} ({len(residents)} / {hospital.capacity}): {residents}\")"
   ]
  },
  {
   "cell_type": "markdown",
   "metadata": {},
   "source": [
    "One common criterion for success when solving games like this is\n",
    "whether all of the medics have been assigned.\n",
    "\n",
    "The following code allows us to see which residents (if any) were not\n",
    "matched to a hospital."
   ]
  },
  {
   "cell_type": "code",
   "execution_count": 6,
   "metadata": {},
   "outputs": [
    {
     "data": {
      "text/plain": [
       "set()"
      ]
     },
     "execution_count": 6,
     "metadata": {},
     "output_type": "execute_result"
    }
   ],
   "source": [
    "matched_residents = []\n",
    "for _, residents in solution.items():\n",
    "    for resident in residents:\n",
    "        matched_residents.append(resident.name)\n",
    "\n",
    "unmatched_residents = set(resident_preferences.keys()).difference(\n",
    "    matched_residents\n",
    ")\n",
    "unmatched_residents"
   ]
  },
  {
   "cell_type": "code",
   "execution_count": null,
   "metadata": {},
   "outputs": [],
   "source": []
  },
  {
   "cell_type": "markdown",
   "metadata": {},
   "source": [
    "We've done it!\n",
    "\n",
    "Every resident has successfully been assigned to a hospital\n",
    "of their choice with stability and fairness."
   ]
  }
 ],
 "metadata": {
  "kernelspec": {
   "display_name": "matching-docs",
   "language": "python",
   "name": "matching-docs"
  },
  "language_info": {
   "codemirror_mode": {
    "name": "ipython",
    "version": 3
   },
   "file_extension": ".py",
   "mimetype": "text/x-python",
   "name": "python",
   "nbconvert_exporter": "python",
   "pygments_lexer": "ipython3",
   "version": "3.8.16"
  }
 },
 "nbformat": 4,
 "nbformat_minor": 4
}
