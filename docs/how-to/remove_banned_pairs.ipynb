{
 "cells": [
  {
   "cell_type": "markdown",
   "metadata": {},
   "source": [
    "# Remove banned pairs\n",
    "\n",
    "Sometimes you may wish to ban certain pairs of players from a matching. This can be done by removing them from the game all together.\n",
    "\n",
    "Consider the following preferences from an instance of HR."
   ]
  },
  {
   "cell_type": "code",
   "execution_count": 1,
   "metadata": {},
   "outputs": [],
   "source": [
    "resident_prefs = {\n",
    "    \"A\": [\"C\"],\n",
    "    \"S\": [\"C\", \"M\"],\n",
    "    \"D\": [\"C\", \"M\", \"G\"],\n",
    "    \"J\": [\"C\", \"G\", \"M\"],\n",
    "    \"L\": [\"M\", \"C\", \"G\"],\n",
    "}\n",
    "\n",
    "hospital_prefs = {\n",
    "    \"M\": [\"D\", \"L\", \"S\", \"J\"],\n",
    "    \"C\": [\"D\", \"A\", \"S\", \"L\", \"J\"],\n",
    "    \"G\": [\"D\", \"J\", \"L\"],\n",
    "}"
   ]
  },
  {
   "cell_type": "markdown",
   "metadata": {},
   "source": [
    "The pairs to be removed can be described as a list of hospital-resident tuples. This list needs to be iterated, and the preferences updated."
   ]
  },
  {
   "cell_type": "code",
   "execution_count": 2,
   "metadata": {},
   "outputs": [],
   "source": [
    "banned_pairs = [(\"M\", \"L\"), (\"C\", \"J\")]\n",
    "for hospital, resident in banned_pairs:\n",
    "\n",
    "    hprefs = hospital_prefs[hospital]\n",
    "    rprefs = resident_prefs[resident]\n",
    "\n",
    "    if resident in hprefs:\n",
    "        hprefs.remove(resident)\n",
    "        hospital_prefs[hospital] = hprefs\n",
    "    if hospital in rprefs:\n",
    "        rprefs.remove(hospital)\n",
    "        resident_prefs[resident] = rprefs"
   ]
  },
  {
   "cell_type": "code",
   "execution_count": 3,
   "metadata": {},
   "outputs": [
    {
     "data": {
      "text/plain": [
       "({'A': ['C'],\n",
       "  'S': ['C', 'M'],\n",
       "  'D': ['C', 'M', 'G'],\n",
       "  'J': ['G', 'M'],\n",
       "  'L': ['C', 'G']},\n",
       " {'M': ['D', 'S', 'J'], 'C': ['D', 'A', 'S', 'L'], 'G': ['D', 'J', 'L']})"
      ]
     },
     "execution_count": 3,
     "metadata": {},
     "output_type": "execute_result"
    }
   ],
   "source": [
    "resident_prefs, hospital_prefs"
   ]
  }
 ],
 "metadata": {
  "kernelspec": {
   "display_name": "Python [conda env:matching-docs]",
   "language": "python",
   "name": "conda-env-matching-docs-py"
  },
  "language_info": {
   "codemirror_mode": {
    "name": "ipython",
    "version": 3
   },
   "file_extension": ".py",
   "mimetype": "text/x-python",
   "name": "python",
   "nbconvert_exporter": "python",
   "pygments_lexer": "ipython3",
   "version": "3.8.5"
  }
 },
 "nbformat": 4,
 "nbformat_minor": 4
}
