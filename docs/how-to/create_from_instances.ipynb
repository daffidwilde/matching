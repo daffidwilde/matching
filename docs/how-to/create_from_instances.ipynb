{
 "cells": [
  {
   "cell_type": "markdown",
   "metadata": {},
   "source": [
    "# Create a game from `Player` instances\n",
    "\n",
    "Any game in Matching can be made by manually creating instances of the `Player` class (or its child classes) and setting their preferences using those instances.\n",
    "\n",
    "Consider the following instance of SM."
   ]
  },
  {
   "cell_type": "code",
   "execution_count": 1,
   "metadata": {},
   "outputs": [],
   "source": [
    "from matching import Player\n",
    "\n",
    "suitors = [Player(name=\"A\"), Player(name=\"B\"), Player(name=\"C\")]\n",
    "reviewers = [Player(name=\"D\"), Player(name=\"E\"), Player(name=\"F\")]\n",
    "\n",
    "(A, B, C), (D, E, F) = suitors, reviewers\n"
   ]
  },
  {
   "cell_type": "markdown",
   "metadata": {},
   "source": [
    "The preferences are then set using the `set_prefs` method of whichever `Player` class you're using."
   ]
  },
  {
   "cell_type": "code",
   "execution_count": 2,
   "metadata": {},
   "outputs": [],
   "source": [
    "A.set_prefs([D, E, F])\n",
    "B.set_prefs([D, F, E])\n",
    "C.set_prefs([F, D, E])\n",
    "\n",
    "D.set_prefs([B, C, A])\n",
    "E.set_prefs([A, C, B])\n",
    "F.set_prefs([C, B, A])\n"
   ]
  },
  {
   "cell_type": "markdown",
   "metadata": {},
   "source": [
    "Finally, the game can be made by passing the lists of players directly."
   ]
  },
  {
   "cell_type": "code",
   "execution_count": 3,
   "metadata": {},
   "outputs": [],
   "source": [
    "from matching.games import StableMarriage\n",
    "\n",
    "game = StableMarriage(suitors, reviewers)\n"
   ]
  }
 ],
 "metadata": {
  "kernelspec": {
   "display_name": "Matching docs",
   "language": "python",
   "name": "matching-docs"
  },
  "language_info": {
   "codemirror_mode": {
    "name": "ipython",
    "version": 3
   },
   "file_extension": ".py",
   "mimetype": "text/x-python",
   "name": "python",
   "nbconvert_exporter": "python",
   "pygments_lexer": "ipython3",
   "version": "3.7.6"
  }
 },
 "nbformat": 4,
 "nbformat_minor": 4
}
