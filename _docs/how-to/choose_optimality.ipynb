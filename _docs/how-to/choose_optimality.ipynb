{
 "cells": [
  {
   "cell_type": "markdown",
   "metadata": {},
   "source": [
    "# Choose party-optimality\n",
    "\n",
    "Many two-sided matching games allow for the optimality of its stable matching to be chosen. This is done using the `optimal` parameter in the corresponding class' `solve` method where the party for whom the solution should be optimal is specified.\n",
    "\n",
    "To see how this may change things, consider the example below."
   ]
  },
  {
   "cell_type": "code",
   "execution_count": 1,
   "metadata": {},
   "outputs": [],
   "source": [
    "from matching.games import StableMarriage\n",
    "\n",
    "suitor_preferences = {\n",
    "    \"A\": [\"X\", \"Y\", \"Z\"],\n",
    "    \"B\": [\"Y\", \"Z\", \"X\"],\n",
    "    \"C\": [\"Y\", \"X\", \"Z\"],\n",
    "}\n",
    "\n",
    "reviewer_preferences = {\n",
    "    \"X\": [\"B\", \"C\", \"A\"],\n",
    "    \"Y\": [\"A\", \"C\", \"B\"],\n",
    "    \"Z\": [\"A\", \"B\", \"C\"],\n",
    "}"
   ]
  },
  {
   "cell_type": "markdown",
   "metadata": {},
   "source": [
    "In the case of SM, the choices are `\"suitor\"` or `\"reviewer\"`."
   ]
  },
  {
   "cell_type": "code",
   "execution_count": 2,
   "metadata": {},
   "outputs": [
    {
     "data": {
      "text/plain": [
       "{A: X, B: Z, C: Y}"
      ]
     },
     "execution_count": 2,
     "metadata": {},
     "output_type": "execute_result"
    }
   ],
   "source": [
    "game = StableMarriage.create_from_dictionaries(\n",
    "    suitor_preferences, reviewer_preferences\n",
    ")\n",
    "\n",
    "game.solve(optimal=\"suitor\")"
   ]
  },
  {
   "cell_type": "code",
   "execution_count": 3,
   "metadata": {},
   "outputs": [
    {
     "data": {
      "text/plain": [
       "{A: Y, B: Z, C: X}"
      ]
     },
     "execution_count": 3,
     "metadata": {},
     "output_type": "execute_result"
    }
   ],
   "source": [
    "game = StableMarriage.create_from_dictionaries(\n",
    "    suitor_preferences, reviewer_preferences\n",
    ")\n",
    "\n",
    "game.solve(optimal=\"reviewer\")"
   ]
  }
 ],
 "metadata": {
  "kernelspec": {
   "display_name": "matching-docs",
   "language": "python",
   "name": "matching-docs"
  },
  "language_info": {
   "codemirror_mode": {
    "name": "ipython",
    "version": 3
   },
   "file_extension": ".py",
   "mimetype": "text/x-python",
   "name": "python",
   "nbconvert_exporter": "python",
   "pygments_lexer": "ipython3",
   "version": "3.8.16"
  }
 },
 "nbformat": 4,
 "nbformat_minor": 4
}
