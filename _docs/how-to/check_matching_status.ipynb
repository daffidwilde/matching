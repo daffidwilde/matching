{
 "cells": [
  {
   "cell_type": "markdown",
   "metadata": {},
   "source": [
    "---\n",
    "title: Check the status of a matching\n",
    "---"
   ]
  },
  {
   "cell_type": "markdown",
   "metadata": {},
   "source": [
    "\n",
    "\n",
    "Verifying the validity and stability of a matching is paramount in any matching game. In matching this is done by creating an instance of a game and using the `check_validity` and `check_stability` methods of the instance.\n",
    "\n",
    "Consider the following instance of SA."
   ]
  },
  {
   "cell_type": "code",
   "execution_count": 1,
   "metadata": {},
   "outputs": [],
   "source": [
    "from matching.games import StudentAllocation\n",
    "\n",
    "student_preferences = {\n",
    "    \"A\": [\"X1\", \"X2\"],\n",
    "    \"B\": [\"Y2\", \"X1\"],\n",
    "    \"C\": [\"X1\", \"Y1\"],\n",
    "    \"D\": [\"Y2\", \"Y1\"],\n",
    "}\n",
    "\n",
    "supervisor_preferences = {\"X\": [\"C\", \"A\", \"B\"], \"Y\": [\"C\", \"D\", \"B\"]}\n",
    "\n",
    "project_supervisors = {\"X1\": \"X\", \"X2\": \"X\", \"Y1\": \"Y\", \"Y2\": \"Y\"}\n",
    "project_capacities = {project: 1 for project in project_supervisors}\n",
    "supervisor_capacities = {supervisor: 2 for supervisor in supervisor_preferences}\n",
    "\n",
    "\n",
    "game = StudentAllocation.create_from_dictionaries(\n",
    "    student_preferences,\n",
    "    supervisor_preferences,\n",
    "    project_supervisors,\n",
    "    project_capacities,\n",
    "    supervisor_capacities,\n",
    ")"
   ]
  },
  {
   "cell_type": "markdown",
   "metadata": {},
   "source": [
    "An easy way to get a matching is just to solve the game. From there we can verify the status of the current matching."
   ]
  },
  {
   "cell_type": "code",
   "execution_count": 2,
   "metadata": {},
   "outputs": [
    {
     "data": {
      "text/plain": [
       "(True, True)"
      ]
     },
     "execution_count": 2,
     "metadata": {},
     "output_type": "execute_result"
    }
   ],
   "source": [
    "game.solve()\n",
    "\n",
    "game.check_validity(), game.check_stability()"
   ]
  }
 ],
 "metadata": {
  "kernelspec": {
   "display_name": "matching-docs",
   "language": "python",
   "name": "matching-docs"
  },
  "language_info": {
   "codemirror_mode": {
    "name": "ipython",
    "version": 3
   },
   "file_extension": ".py",
   "mimetype": "text/x-python",
   "name": "python",
   "nbconvert_exporter": "python",
   "pygments_lexer": "ipython3",
   "version": "3.8.16"
  }
 },
 "nbformat": 4,
 "nbformat_minor": 4
}
