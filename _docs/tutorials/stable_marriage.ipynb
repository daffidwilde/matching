{
 "cells": [
  {
   "cell_type": "markdown",
   "metadata": {
    "raw_mimetype": "text/restructuredtext"
   },
   "source": [
    "---\n",
    "title: Pairing up suitors and reviewers\n",
    "description: Help our ensemble overcome their pride and prejudice... with maths\n",
    "image: /assets/tutorials/stable_marriage/feature.jpg\n",
    "---"
   ]
  },
  {
   "cell_type": "markdown",
   "metadata": {},
   "source": [
    "In this tutorial we will be setting up and solving an instance of SM.\n",
    "\n",
    "In particular, we will be using an example adapted from the great literary\n",
    "work, *Pride and Prejudice* [@Aus13], where four women\n",
    "(Charlotte, Elizabeth, Jane and Lydia) are being courted by four male suitors\n",
    "(Bingley, Collins, Darcy, and Wickham).\n",
    "\n",
    "From here on out, we'll refer to the men and women as suitors and reviewers,\n",
    "respectively.\n",
    "\n",
    "## Creating the players and their preferences\n",
    "\n",
    "To begin, we create an instance of the `Player` class for each suitor and\n",
    "reviewer:"
   ]
  },
  {
   "cell_type": "code",
   "execution_count": 6,
   "metadata": {},
   "outputs": [],
   "source": [
    "from matching import Player\n",
    "\n",
    "suitors = [\n",
    "    Player(\"Bingley\"), Player(\"Collins\"), Player(\"Darcy\"), Player(\"Wickham\")\n",
    "]\n",
    "\n",
    "reviewers = [\n",
    "    Player(\"Charlotte\"), Player(\"Elizabeth\"), Player(\"Jane\"), Player(\"Lydia\")\n",
    "]"
   ]
  },
  {
   "cell_type": "markdown",
   "metadata": {},
   "source": [
    "To set a player's preferences, we use the `Player.set_prefs()` method.\n",
    "\n",
    "Each player's preferences must be a list of all the `Player` instances in the\n",
    "other party ordered according to how much they like them.\n",
    "That is, put your favourite first, followed by your second,\n",
    "and so on until you've put your least favourite last.\n",
    "\n",
    "::: {.callout-warning}\n",
    "The preference lists below are based on\n",
    "some very loose interpretations of the original text\n",
    "and the need to create full lists.\n",
    "Please do not come for me about them.\n",
    ":::\n",
    "\n",
    "A nice way to do this is by unpacking `suitors` and `reviewers`:"
   ]
  },
  {
   "cell_type": "code",
   "execution_count": 7,
   "metadata": {},
   "outputs": [],
   "source": [
    "bingley, collins, darcy, wickham = suitors\n",
    "charlotte, elizabeth, jane, lydia = reviewers\n",
    "\n",
    "bingley.set_prefs([jane, elizabeth, lydia, charlotte])\n",
    "collins.set_prefs([elizabeth, jane, lydia, charlotte])\n",
    "darcy.set_prefs([elizabeth, jane, charlotte, lydia])\n",
    "wickham.set_prefs([lydia, jane, elizabeth, charlotte])\n",
    "\n",
    "charlotte.set_prefs([collins, darcy, bingley, wickham])\n",
    "elizabeth.set_prefs([wickham, darcy, bingley, collins])\n",
    "jane.set_prefs([bingley, wickham, darcy, collins])\n",
    "lydia.set_prefs([wickham, bingley, darcy, collins])"
   ]
  },
  {
   "cell_type": "markdown",
   "metadata": {},
   "source": [
    "## Running the game\n",
    "\n",
    "With our now complete `Player` instances,\n",
    "we pass the lists of players to the `StableMarriage` class to create a game:"
   ]
  },
  {
   "cell_type": "code",
   "execution_count": 8,
   "metadata": {},
   "outputs": [],
   "source": [
    "from matching.games import StableMarriage\n",
    "\n",
    "game = StableMarriage(suitors, reviewers)"
   ]
  },
  {
   "cell_type": "markdown",
   "metadata": {},
   "source": [
    "Then we can find a suitor-optimal, stable matching using the `solve` method:"
   ]
  },
  {
   "cell_type": "code",
   "execution_count": 9,
   "metadata": {},
   "outputs": [
    {
     "data": {
      "text/plain": [
       "{Bingley: Jane, Collins: Charlotte, Darcy: Elizabeth, Wickham: Lydia}"
      ]
     },
     "execution_count": 9,
     "metadata": {},
     "output_type": "execute_result"
    }
   ],
   "source": [
    "game.solve()"
   ]
  },
  {
   "cell_type": "markdown",
   "metadata": {},
   "source": [
    "Huzzah! We have shown (with some inventive but necessary subtext) that\n",
    "Jane Austen successfully created a stable matching between her characters\n",
    "over [a century before the maths](@GaleShapley1962) had been figured out."
   ]
  }
 ],
 "metadata": {
  "interpreter": {
   "hash": "a8c967c2db996a903b0ac2ddddd52d1718dfee8994011f28d022363595a494ba"
  },
  "kernelspec": {
   "display_name": "matching-docs",
   "language": "python",
   "name": "matching-docs"
  },
  "language_info": {
   "codemirror_mode": {
    "name": "ipython",
    "version": 3
   },
   "file_extension": ".py",
   "mimetype": "text/x-python",
   "name": "python",
   "nbconvert_exporter": "python",
   "pygments_lexer": "ipython3",
   "version": "3.8.16"
  }
 },
 "nbformat": 4,
 "nbformat_minor": 2
}
